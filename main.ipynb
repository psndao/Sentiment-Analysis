{
 "cells": [
  {
   "cell_type": "markdown",
   "metadata": {
    "notebookRunGroups": {
     "groupValue": "1"
    }
   },
   "source": [
    "# Objectif"
   ]
  },
  {
   "cell_type": "markdown",
   "metadata": {},
   "source": [
    "Ce projet a pour but de développer un modèle de classification binaire capable de prédire la polarité (positive ou négative) d'une critique de film issue du site IMDb, en utilisant exclusivement son contenu textuel.\n",
    "\n",
    "Il s’inscrit dans le cadre de l’apprentissage automatique supervisé, et utilise un réseau de neurones à mémoire longue courte durée (LSTM) construit avec TensorFlow/Keras."
   ]
  },
  {
   "cell_type": "markdown",
   "metadata": {},
   "source": [
    "# Données "
   ]
  },
  {
   "cell_type": "markdown",
   "metadata": {
    "notebookRunGroups": {
     "groupValue": "1"
    }
   },
   "source": [
    "Les données proviennent du corpus IMDb Large Movie Review Dataset disponible ici :\n",
    "🔗 https://ai.stanford.edu/~amaas/data/sentiment/\n",
    "\n",
    "50 000 critiques au total, réparties en :\n",
    "\n",
    "train/pos : 12 500 critiques positives\n",
    "\n",
    "train/neg : 12 500 critiques négatives\n",
    "\n",
    "test/pos : 12 500 critiques positives\n",
    "\n",
    "test/neg : 12 500 critiques négatives\n",
    "\n",
    "Chaque critique est un fichier .txt contenant le texte d’une critique"
   ]
  },
  {
   "cell_type": "code",
   "execution_count": null,
   "metadata": {},
   "outputs": [],
   "source": [
    "from tensorflow.keras.preprocessing.text import Tokenizer\n",
    "from tensorflow.keras.preprocessing.sequence import pad_sequences\n",
    "from tensorflow.keras.models import Sequential\n",
    "from tensorflow.keras.layers import Embedding, LSTM, Dense, GlobalAveragePooling1D\n",
    "from tensorflow.keras.optimizers import Adam"
   ]
  },
  {
   "cell_type": "markdown",
   "metadata": {},
   "source": [
    "1. Chargement des données IMDb"
   ]
  },
  {
   "cell_type": "code",
   "execution_count": null,
   "metadata": {},
   "outputs": [],
   "source": [
    "def load_imdb_data(data_dir):\n",
    "    texts, labels = [], []\n",
    "    for label_type in ['neg', 'pos']:\n",
    "        dir_name = os.path.join(data_dir, label_type)\n",
    "        for fname in os.listdir(dir_name):\n",
    "            if fname.endswith(\".txt\"):\n",
    "                with open(os.path.join(dir_name, fname), encoding=\"utf-8\") as f:\n",
    "                    texts.append(f.read())\n",
    "                labels.append(0 if label_type == 'neg' else 1)\n",
    "    return texts, labels"
   ]
  },
  {
   "cell_type": "markdown",
   "metadata": {},
   "source": [
    "2. Prétraitement"
   ]
  },
  {
   "cell_type": "code",
   "execution_count": null,
   "metadata": {},
   "outputs": [],
   "source": [
    "train_dir = \"data/aclImdb/train\"\n",
    "test_dir = \"data/aclImdb/test\"\n",
    "\n",
    "x_train_texts, y_train = load_imdb_data(train_dir)\n",
    "x_test_texts, y_test = load_imdb_data(test_dir)"
   ]
  }
 ],
 "metadata": {
  "kernelspec": {
   "display_name": "Python 3",
   "language": "python",
   "name": "python3"
  },
  "language_info": {
   "codemirror_mode": {
    "name": "ipython",
    "version": 3
   },
   "file_extension": ".py",
   "mimetype": "text/x-python",
   "name": "python",
   "nbconvert_exporter": "python",
   "pygments_lexer": "ipython3",
   "version": "3.12.7"
  }
 },
 "nbformat": 4,
 "nbformat_minor": 2
}
